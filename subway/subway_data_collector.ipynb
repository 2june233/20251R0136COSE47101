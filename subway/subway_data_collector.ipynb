{
 "cells": [
  {
   "cell_type": "code",
   "execution_count": null,
   "id": "4d4fac3d",
   "metadata": {},
   "outputs": [],
   "source": [
    "!pip install requests"
   ]
  },
  {
   "cell_type": "code",
   "execution_count": null,
   "id": "10b35dcb",
   "metadata": {},
   "outputs": [],
   "source": [
    "import requests\n",
    "import xml.etree.ElementTree as ET\n",
    "import pandas as pd\n",
    "import time\n",
    "from datetime import datetime"
   ]
  },
  {
   "cell_type": "markdown",
   "id": "5a0ecd87",
   "metadata": {},
   "source": [
    "## Data collection"
   ]
  },
  {
   "cell_type": "code",
   "execution_count": null,
   "id": "2a1f5f15",
   "metadata": {},
   "outputs": [],
   "source": [
    "# API key 입력하기 (16개 역을 10초 간격으로 2시간 수집 시 12개 필요)\n",
    "keys = ['', '', '', '', '', '', '', '', '', '', '', '']"
   ]
  },
  {
   "cell_type": "code",
   "execution_count": null,
   "id": "5d13138b",
   "metadata": {},
   "outputs": [],
   "source": [
    "stations = ['서울', '신도림', '금천구청', '왕십리', '약수', '고속터미널', '명동', '수리산', '명일', '부평', '안암(고대병원앞)', '군포', '금정', '사당', '강남', '성수']\n",
    "duration_min = 120\n",
    "interval_sec = 10\n",
    "today = datetime.now().strftime(\"%m%d\")\n",
    "\n",
    "dfs = {station: pd.DataFrame() for station in stations}\n",
    "key_idx = 0\n",
    "\n",
    "def collect_to_df(station, key):\n",
    "    try:\n",
    "        url = f'http://swopenAPI.seoul.go.kr/api/subway/{key}/xml/realtimeStationArrival/0/100/{station}'\n",
    "        response = requests.get(url)\n",
    "        response.encoding = 'utf-8'\n",
    "        root = ET.fromstring(response.content)\n",
    "        rows = root.findall('row')\n",
    "    except Exception as e:\n",
    "        print(f'{station}: request failed ({e})')\n",
    "        return\n",
    "    \n",
    "    if not rows:\n",
    "        print(f'{station}: no data received')\n",
    "        return\n",
    "\n",
    "    records = [{child.tag: child.text for child in row} for row in rows]\n",
    "    df_new = pd.DataFrame(records)\n",
    "    dfs[station] = pd.concat([dfs[station], df_new], ignore_index=True)\n",
    "    print(f'{station}: collected {len(records)} records')\n",
    "\n",
    "print(f'Starting {interval_sec} seconds interval data collection for {duration_min} minutes...\\n')\n",
    "try:\n",
    "    total_rounds = (duration_min * 60) // interval_sec\n",
    "\n",
    "    for i in range(total_rounds):\n",
    "        for station in stations:\n",
    "            current_key = keys[key_idx]\n",
    "            collect_to_df(station, current_key)\n",
    "            key_idx = (key_idx + 1) % len(keys)\n",
    "        time.sleep(interval_sec)\n",
    "    \n",
    "    for station in stations:\n",
    "        filename = f'{station}_{today}_morning.csv'\n",
    "        dfs[station].to_csv(filename, index=False, encoding='utf-8-sig')\n",
    "        print(f'{station}: saved as {filename}')\n",
    "    \n",
    "    print('\\nAll data collection complete.')\n",
    "except KeyboardInterrupt:\n",
    "    print('\\nData collection interrupted by user.')"
   ]
  }
 ],
 "metadata": {
  "kernelspec": {
   "display_name": "Python 3",
   "language": "python",
   "name": "python3"
  },
  "language_info": {
   "codemirror_mode": {
    "name": "ipython",
    "version": 3
   },
   "file_extension": ".py",
   "mimetype": "text/x-python",
   "name": "python",
   "nbconvert_exporter": "python",
   "pygments_lexer": "ipython3",
   "version": "3.12.4"
  }
 },
 "nbformat": 4,
 "nbformat_minor": 5
}
